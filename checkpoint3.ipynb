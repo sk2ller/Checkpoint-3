{
 "cells": [
  {
   "cell_type": "code",
   "execution_count": 6,
   "id": "b81b68a3",
   "metadata": {},
   "outputs": [
    {
     "name": "stdout",
     "output_type": "stream",
     "text": [
      "35\n"
     ]
    }
   ],
   "source": [
    "#Question 1\n",
    "def max(a,b,c):\n",
    "  if a>=b and a>=c:\n",
    "    return a\n",
    "  elif b>=a and b>=c:\n",
    "    return b\n",
    "  else:\n",
    "    return c\n",
    "print(max(19,35,20))"
   ]
  },
  {
   "cell_type": "code",
   "execution_count": 7,
   "id": "ce1d5b36",
   "metadata": {},
   "outputs": [
    {
     "name": "stdout",
     "output_type": "stream",
     "text": [
      "(50, 30)\n"
     ]
    }
   ],
   "source": [
    "#Question 2\n",
    "def calculation(a,b):\n",
    "  x=int(a)\n",
    "  y=int(b)\n",
    "  return (x+y,x-y)\n",
    "print(calculation(40,10))"
   ]
  },
  {
   "cell_type": "code",
   "execution_count": 8,
   "id": "6e281711",
   "metadata": {},
   "outputs": [
    {
     "name": "stdout",
     "output_type": "stream",
     "text": [
      "sum= 13 multiplication= 96\n"
     ]
    }
   ],
   "source": [
    "#Question 3\n",
    "integers=[1,2,3,4,5,6,1,2,3]\n",
    "def sum(list):\n",
    "  s=0\n",
    "  for i in range(len(list)):\n",
    "    s=s+list[i]\n",
    "  return s\n",
    "def multi(list):\n",
    "  s=1\n",
    "  for i in range(len(list)):\n",
    "    s=s*list[i]\n",
    "  return s\n",
    "total=[]\n",
    "mult=[]\n",
    "for i in range(len(integers)):\n",
    "  if i%2==0:\n",
    "    total.append(integers[i])\n",
    "  else:\n",
    "    mult.append(integers[i])\n",
    "print(\"sum=\",sum(total),'multiplication=',multi(mult))"
   ]
  },
  {
   "cell_type": "code",
   "execution_count": 9,
   "id": "f66d22d5",
   "metadata": {},
   "outputs": [
    {
     "name": "stdout",
     "output_type": "stream",
     "text": [
      "black-green-red-white-yellow\n"
     ]
    }
   ],
   "source": [
    "#Question 4\n",
    "unorganized=\"green-red-yellow-black-white\"\n",
    "words=list(unorganized.split('-'))\n",
    "words.sort()\n",
    "final=\"\"\n",
    "for i in words:\n",
    "  final+='-'+i\n",
    "print(final[1:len(final)])"
   ]
  },
  {
   "cell_type": "code",
   "execution_count": 10,
   "id": "4c3c2a2b",
   "metadata": {},
   "outputs": [
    {
     "name": "stdout",
     "output_type": "stream",
     "text": [
      "11,12,14,16\n"
     ]
    }
   ],
   "source": [
    "#Question 5\n",
    "import math \n",
    "numbers=40,50,60,81\n",
    "def calculate(tuple):\n",
    "  string=\"\"\n",
    "  for i in (tuple):\n",
    "    i=int(math.sqrt(((2*50*i)/30)))\n",
    "    string=string+','+str(i)\n",
    "  string=string[1:len(string)]\n",
    "  return string\n",
    "print(calculate(numbers))"
   ]
  }
 ],
 "metadata": {
  "kernelspec": {
   "display_name": "Python 3",
   "language": "python",
   "name": "python3"
  },
  "language_info": {
   "codemirror_mode": {
    "name": "ipython",
    "version": 3
   },
   "file_extension": ".py",
   "mimetype": "text/x-python",
   "name": "python",
   "nbconvert_exporter": "python",
   "pygments_lexer": "ipython3",
   "version": "3.8.8"
  }
 },
 "nbformat": 4,
 "nbformat_minor": 5
}
